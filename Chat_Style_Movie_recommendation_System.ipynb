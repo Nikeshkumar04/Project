{
  "nbformat": 4,
  "nbformat_minor": 0,
  "metadata": {
    "colab": {
      "provenance": [],
      "authorship_tag": "ABX9TyPy4w6ekSzoxSum/AVDR0gf",
      "include_colab_link": true
    },
    "kernelspec": {
      "name": "python3",
      "display_name": "Python 3"
    },
    "language_info": {
      "name": "python"
    }
  },
  "cells": [
    {
      "cell_type": "markdown",
      "metadata": {
        "id": "view-in-github",
        "colab_type": "text"
      },
      "source": [
        "<a href=\"https://colab.research.google.com/github/Nikeshkumar04/Project/blob/main/Chat_Style_Movie_recommendation_System.ipynb\" target=\"_parent\"><img src=\"https://colab.research.google.com/assets/colab-badge.svg\" alt=\"Open In Colab\"/></a>"
      ]
    },
    {
      "cell_type": "code",
      "execution_count": null,
      "metadata": {
        "id": "ZCsz1eNSFgm1"
      },
      "outputs": [],
      "source": [
        "# Initialize all the data frames and laod the data set for further progress\n",
        "\n",
        "import pandas as pd\n",
        "import random\n",
        "\n",
        "# Load the dataset\n",
        "def load_movies():\n",
        "    df = pd.read_csv(\"imdb_top_1000.csv\")\n",
        "    return df[['Series_Title', 'Genre']].dropna()\n"
      ]
    },
    {
      "cell_type": "code",
      "source": [
        "# STEP - 1: Organize movies by genre\n",
        "def build_genre_map(df):\n",
        "    genre_map = {}\n",
        "    for _, row in df.iterrows():\n",
        "        title = row['Series_Title']\n",
        "        genres = row['Genre'].split(',')\n",
        "\n",
        "        for g in genres:\n",
        "            genre = g.strip().title()\n",
        "            genre_map.setdefault(genre, []).append(title)\n",
        "    return genre_map\n"
      ],
      "metadata": {
        "id": "DXrL6kYeFhD4"
      },
      "execution_count": null,
      "outputs": []
    },
    {
      "cell_type": "code",
      "source": [
        "# STEP -2: Create a small interactive greeting session like a Chat-bot\n",
        "def greet():\n",
        "    print(\" Hey there! welcome to movie recomendation system you can call me movie buddy.\")\n",
        "    name = input(\"First things first, what's your name? \")\n",
        "    print(f\"\\nNice to meet you, {name}!  I'm here to help you find many movies of your liking based on the genre of your choice .\\n\")\n",
        "    return name"
      ],
      "metadata": {
        "id": "KKE1fOurFhMi"
      },
      "execution_count": null,
      "outputs": []
    },
    {
      "cell_type": "code",
      "source": [
        "#  STEP - 3: Chat-style genre suggestion\n",
        "def suggest_genre(genre_map):\n",
        "    print(\" I know about a bunch of movie genres. Here's a few to pick from:\\n\")\n",
        "    genres = sorted(genre_map.keys())\n",
        "    for g in genres:\n",
        "        print(f\"- {g}\")\n",
        "    print()\n"
      ],
      "metadata": {
        "id": "wx0jT6wqFhP7"
      },
      "execution_count": null,
      "outputs": []
    },
    {
      "cell_type": "code",
      "source": [
        "# STEP - 4: Recommend movies\n",
        "def suggest_movies(genre_map, genre):\n",
        "    genre = genre.title()\n",
        "    if genre in genre_map:\n",
        "        print(f\"\\n ahhh! you have a great taste ! Here are some awesome {genre} movies you might enjoy:\\n\")\n",
        "        for i, movie in enumerate(genre_map[genre][:10], 1):\n",
        "            print(f\"{i}. {movie}\")\n",
        "    else:\n",
        "        print(\" I don’t seem to know that genre. please enter a valid genre...\")\n"
      ],
      "metadata": {
        "id": "vSTkTNckFhS0"
      },
      "execution_count": null,
      "outputs": []
    },
    {
      "cell_type": "code",
      "source": [
        "# STEP - 5:  Keep chatting until the user wants to exit\n",
        "def chat():\n",
        "    df = load_movies()\n",
        "    genre_map = build_genre_map(df)\n",
        "    greet()\n",
        "\n",
        "    while True:\n",
        "        print(\"\\nWhat would you like to do?\")\n",
        "        print(\"1️⃣  Show me the genres\")\n",
        "        print(\"2️⃣  Recommend me some movies\")\n",
        "        print(\"3️⃣  I’m done, thanks!\")\n",
        "\n",
        "        choice = input(\"Type 1, 2, or 3: \").strip()\n",
        "\n",
        "        if choice == '1':\n",
        "            suggest_genre(genre_map)\n",
        "\n",
        "        elif choice == '2':\n",
        "            genre = input(\"\\nTell me a genre you're in the mood for: \")\n",
        "            suggest_movies(genre_map, genre)\n",
        "\n",
        "        elif choice == '3':\n",
        "            print(\"\\n🍿 That’s all from me! Hope you found something amazing to watch. See you soon!\")\n",
        "            break\n",
        "\n",
        "        else:\n",
        "            print(\"🤔 Oops! I didn't get that. Just type 1, 2, or 3.\")\n",
        "\n",
        "# Start chatting\n",
        "if __name__ == \"__main__\":\n",
        "    chat()\n"
      ],
      "metadata": {
        "colab": {
          "base_uri": "https://localhost:8080/"
        },
        "id": "NmdLg97hFhVf",
        "outputId": "aa60cee2-a362-4666-ac68-96dd6dece140"
      },
      "execution_count": null,
      "outputs": [
        {
          "output_type": "stream",
          "name": "stdout",
          "text": [
            " Hey there! welcome to movie recomendation system you can call me movie buddy.\n",
            "First things first, what's your name? Nikesh \n",
            "\n",
            "Nice to meet you, Nikesh !  I'm here to help you find many movies of your liking based on the genre of your choice .\n",
            "\n",
            "\n",
            "What would you like to do?\n",
            "1️⃣  Show me the genres\n",
            "2️⃣  Recommend me some movies\n",
            "3️⃣  I’m done, thanks!\n",
            "Type 1, 2, or 3: 1\n",
            " I know about a bunch of movie genres. Here's a few to pick from:\n",
            "\n",
            "- Action\n",
            "- Adventure\n",
            "- Animation\n",
            "- Biography\n",
            "- Comedy\n",
            "- Crime\n",
            "- Drama\n",
            "- Family\n",
            "- Fantasy\n",
            "- Film-Noir\n",
            "- History\n",
            "- Horror\n",
            "- Music\n",
            "- Musical\n",
            "- Mystery\n",
            "- Romance\n",
            "- Sci-Fi\n",
            "- Sport\n",
            "- Thriller\n",
            "- War\n",
            "- Western\n",
            "\n",
            "\n",
            "What would you like to do?\n",
            "1️⃣  Show me the genres\n",
            "2️⃣  Recommend me some movies\n",
            "3️⃣  I’m done, thanks!\n",
            "Type 1, 2, or 3: 2\n",
            "\n",
            "Tell me a genre you're in the mood for: action\n",
            "\n",
            " ahhh! you have a great taste ! Here are some awesome Action movies you might enjoy:\n",
            "\n",
            "1. The Dark Knight\n",
            "2. The Lord of the Rings: The Return of the King\n",
            "3. Inception\n",
            "4. The Lord of the Rings: The Fellowship of the Ring\n",
            "5. The Lord of the Rings: The Two Towers\n",
            "6. The Matrix\n",
            "7. Star Wars: Episode V - The Empire Strikes Back\n",
            "8. Star Wars\n",
            "9. Seppuku\n",
            "10. Shichinin no samurai\n",
            "\n",
            "What would you like to do?\n",
            "1️⃣  Show me the genres\n",
            "2️⃣  Recommend me some movies\n",
            "3️⃣  I’m done, thanks!\n",
            "Type 1, 2, or 3: 3\n",
            "\n",
            "🍿 That’s all from me! Hope you find something amazing to watch. See you soon!\n"
          ]
        }
      ]
    }
  ]
}