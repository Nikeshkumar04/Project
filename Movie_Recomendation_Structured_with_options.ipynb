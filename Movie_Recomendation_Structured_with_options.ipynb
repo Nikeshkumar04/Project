{
  "nbformat": 4,
  "nbformat_minor": 0,
  "metadata": {
    "colab": {
      "provenance": [],
      "mount_file_id": "13hvIxViNaZbhDkRHeuTiGITMQr_1PLw4",
      "authorship_tag": "ABX9TyORg550vDQ6ni2HntK/i9ps",
      "include_colab_link": true
    },
    "kernelspec": {
      "name": "python3",
      "display_name": "Python 3"
    },
    "language_info": {
      "name": "python"
    }
  },
  "cells": [
    {
      "cell_type": "markdown",
      "metadata": {
        "id": "view-in-github",
        "colab_type": "text"
      },
      "source": [
        "<a href=\"https://colab.research.google.com/github/Nikeshkumar04/Project/blob/main/Movie_Recomendation_Structured_with_options.ipynb\" target=\"_parent\"><img src=\"https://colab.research.google.com/assets/colab-badge.svg\" alt=\"Open In Colab\"/></a>"
      ]
    },
    {
      "cell_type": "code",
      "source": [
        "\n",
        "import pandas as pd\n",
        "\n",
        "# STEP - 1:  Load IMDb dataset and return only necessary columns\n",
        "def load_movies():\n",
        "    df = pd.read_csv(\"imdb_top_1000.csv\")\n",
        "    return df[['Series_Title', 'Genre']].dropna()\n",
        "\n",
        "# STEP - 2: Create a dictionary mapping genres to associated movies\n",
        "def build_genre_map(df):\n",
        "    genre_movies = {}\n",
        "    for _, row in df.iterrows():\n",
        "        title = row['Series_Title']\n",
        "        genres = row['Genre'].split(',')\n",
        "\n",
        "        for g in genres:\n",
        "            genre = g.strip().title()  # Normalize genre name\n",
        "            genre_movies.setdefault(genre, []).append(title)\n",
        "\n",
        "    return genre_movies\n",
        "\n",
        "# STEP - 3: Simple user login system\n",
        "def greet_user():\n",
        "    print(\"=== Welcome to the Movie Recommendation System, buddy! ===\")\n",
        "    username = input(\"What's your name? \")\n",
        "    print(f\"\\nHey {username}, Let me suggest some  great movies for you \\n\")\n",
        "    return username\n",
        "\n",
        "# STEP - 4: Display all available genres to the user\n",
        "def show_genres(genre_movies):\n",
        "    print(\" Available genres:\\n\")\n",
        "    for genre in sorted(genre_movies.keys()):\n",
        "        print(f\" - {genre}\")\n",
        "    print()\n",
        "\n",
        "# STEP - 5:Recommend movies from the selected genre\n",
        "def recommend_movies(genre_movies, genre):\n",
        "    genre = genre.title()\n",
        "    if genre in genre_movies:\n",
        "        print(f\"\\n Check out these top {genre} movies:\\n\")\n",
        "        for i, movie in enumerate(genre_movies[genre][:10], 1):  # Limit to top 10\n",
        "            print(f\"{i}. {movie}\")\n",
        "    else:\n",
        "        print(\"Sorry, that genre is not available. Please try again with a valid genre name.\")\n",
        "\n",
        "# STEP - 6:Main interaction loop\n",
        "def main():\n",
        "    df = load_movies()\n",
        "    genre_movies = build_genre_map(df)\n",
        "    greet_user()\n",
        "\n",
        "    while True:\n",
        "        print(\"\\nWhat would you like to do?\")\n",
        "        print(\"1. Browse all genres\")\n",
        "        print(\"2. Get movie recommendations\")\n",
        "        print(\"3. Exit\")\n",
        "\n",
        "        choice = input(\"Enter your choice (1/2/3): \").strip()\n",
        "\n",
        "        if choice == '1':\n",
        "            show_genres(genre_movies)\n",
        "        elif choice == '2':\n",
        "            genre = input(\"What's a genre you're in the mood for? \")\n",
        "            recommend_movies(genre_movies, genre)\n",
        "        elif choice == '3':\n",
        "            print(\"Hope you like the movies suggested by me. See you next time!\")\n",
        "            break\n",
        "        else:\n",
        "            print(\" That’s not a valid option. Please enter 1, 2, or 3.\")\n",
        "\n",
        "if __name__ == \"__main__\":\n",
        "    main()\n"
      ],
      "metadata": {
        "colab": {
          "base_uri": "https://localhost:8080/"
        },
        "id": "0WhhCLT6SYwK",
        "outputId": "72418d09-b633-4405-961c-33dfb13c9b69"
      },
      "execution_count": null,
      "outputs": [
        {
          "output_type": "stream",
          "name": "stdout",
          "text": [
            "/bin/bash: line 1: https://github.com/Nikeshkumar04/Project.git: No such file or directory\n",
            "=== Welcome to the Movie Recommendation System, buddy! ===\n",
            "What's your name? Nikesh\n",
            "\n",
            "Hey Nikesh, Let me suggest some  great movies for you \n",
            "\n",
            "\n",
            "What would you like to do?\n",
            "1. Browse all genres\n",
            "2. Get movie recommendations\n",
            "3. Exit\n",
            "Enter your choice (1/2/3): 3\n",
            "Hope you like the movies suggested by me. See you next time!\n"
          ]
        }
      ]
    }
  ]
}